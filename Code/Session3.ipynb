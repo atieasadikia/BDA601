{
 "cells": [
  {
   "cell_type": "markdown",
   "id": "a3c35c2c",
   "metadata": {},
   "source": [
    "### Creating a database, collection, and document"
   ]
  },
  {
   "cell_type": "markdown",
   "id": "916703bd",
   "metadata": {},
   "source": [
    "#### Today's exercise involves creating a database in MongoDB using Python. We will then establish a collection and insert documents into it. "
   ]
  },
  {
   "cell_type": "markdown",
   "id": "64dc8443",
   "metadata": {},
   "source": [
    "**PyMongo** is a Python driver for MongoDB. It provides tools to work with MongoDB directly from Python applications."
   ]
  },
  {
   "cell_type": "code",
   "execution_count": 42,
   "id": "477fdf25",
   "metadata": {},
   "outputs": [
    {
     "name": "stdout",
     "output_type": "stream",
     "text": [
      "Requirement already satisfied: pymongo in /Users/atie/anaconda3/lib/python3.11/site-packages (4.5.0)\n",
      "Requirement already satisfied: dnspython<3.0.0,>=1.16.0 in /Users/atie/anaconda3/lib/python3.11/site-packages (from pymongo) (2.4.2)\n"
     ]
    }
   ],
   "source": [
    "!pip install pymongo"
   ]
  },
  {
   "cell_type": "markdown",
   "id": "0a2123c8",
   "metadata": {},
   "source": [
    "**MongoClient** is a class provided by the PyMongo library, which is the official Python driver for MongoDB. The MongoClient class **is used to connect to a running MongoDB instance**, interact with databases, and perform various database operations."
   ]
  },
  {
   "cell_type": "code",
   "execution_count": null,
   "id": "e2df9f88",
   "metadata": {},
   "outputs": [],
   "source": [
    "from pymongo import MongoClient\n"
   ]
  },
  {
   "cell_type": "code",
   "execution_count": null,
   "id": "6c0a2f0f",
   "metadata": {},
   "outputs": [],
   "source": [
    "# To work with date and time in Python we use the datetime library\n",
    "\n",
    "import datetime"
   ]
  },
  {
   "cell_type": "code",
   "execution_count": null,
   "id": "73476a4f",
   "metadata": {},
   "outputs": [],
   "source": [
    "# We define Client Mongo to be able to connect to Mongo Database\n",
    "\n",
    "client = MongoClient()"
   ]
  },
  {
   "cell_type": "markdown",
   "id": "cc92dd6c",
   "metadata": {},
   "source": [
    "The above code will connect the default host and port. We can also specify the host and port explicitly, as follows:"
   ]
  },
  {
   "cell_type": "code",
   "execution_count": null,
   "id": "74232201",
   "metadata": {},
   "outputs": [],
   "source": [
    "# This line of code establishes a connection to a MongoDB server using the PyMongo library. \n",
    "\n",
    "client = MongoClient(host= \"localhost\", port= 27017)\n",
    "\n",
    "# OR\n",
    "\n",
    "client = MongoClient(\"mongodb://localhost:27017\")"
   ]
  },
  {
   "cell_type": "code",
   "execution_count": null,
   "id": "4ee82ef4",
   "metadata": {},
   "outputs": [],
   "source": [
    "client"
   ]
  },
  {
   "cell_type": "markdown",
   "id": "3f0faaec",
   "metadata": {},
   "source": [
    "**Getting a Database:** Once you have a connected an instance of MongoClient, you can access any database managed by the specified MongoDB server. To define which database you want to use, you can use the dot notation."
   ]
  },
  {
   "cell_type": "code",
   "execution_count": null,
   "id": "db1906dc",
   "metadata": {},
   "outputs": [],
   "source": [
    "db = client.post_database\n",
    "\n",
    "# OR\n",
    "db = client[\"post_database\"]\n",
    "\n",
    "db"
   ]
  },
  {
   "cell_type": "markdown",
   "id": "d9402270",
   "metadata": {},
   "source": [
    "In this cae, **new Collection** is an instance of Collection and represents a physical colleciton of documents in your database. "
   ]
  },
  {
   "cell_type": "code",
   "execution_count": null,
   "id": "0469bcdb",
   "metadata": {},
   "outputs": [],
   "source": [
    "# collection is similar to table in relational databases\n",
    "\n",
    "collection = db.posts_collection\n",
    "\n",
    "#OR\n",
    "\n",
    "collection = db['posts_collection']\n",
    "\n",
    "collection"
   ]
  },
  {
   "cell_type": "markdown",
   "id": "26d9c83f",
   "metadata": {},
   "source": [
    "**Sample Document** Following example shows the document structure of a blog site, which is simply a comma seperated key value pair."
   ]
  },
  {
   "cell_type": "code",
   "execution_count": null,
   "id": "9cd71967",
   "metadata": {},
   "outputs": [],
   "source": [
    "# Creating a dictionary of data (\"key\": \"value\")\n",
    "\n",
    "post = {\"author\": \"Mike\",\n",
    "       \"text\": \"My first blog post!\",\n",
    "       \"tags\": [\"mongodb\", \"python\", \"pymongo\"],\n",
    "       \"date\": datetime.datetime.utcnow()}\n",
    "post"
   ]
  },
  {
   "cell_type": "markdown",
   "id": "6a22a17c",
   "metadata": {},
   "source": [
    "You can add documents into the collection by calling ```.insert_one()``` on it with a document as an argument:"
   ]
  },
  {
   "cell_type": "code",
   "execution_count": null,
   "id": "9243498a",
   "metadata": {},
   "outputs": [],
   "source": [
    "# Addinng one Document (row of data) to the Collection (table)\n",
    "\n",
    "collection.insert_one(post)"
   ]
  },
  {
   "cell_type": "markdown",
   "id": "263f012f",
   "metadata": {},
   "source": [
    "The ```pprint``` in Python provides a capability to \"pretty-print\" arbitrary Python data structures in a more readable, formatted manner compared to the built-in print() function. The name pprint stands for \"pretty print.\""
   ]
  },
  {
   "cell_type": "code",
   "execution_count": null,
   "id": "60143914",
   "metadata": {},
   "outputs": [],
   "source": [
    "# pprint library \n",
    "\n",
    "import pprint\n",
    "\n",
    "# Lets compare print and pprint\n",
    "\n",
    "print(collection.find_one())\n",
    "\n",
    "print(\"---------------------------------------------------------------\")\n",
    "\n",
    "pprint.pprint(collection.find_one())"
   ]
  },
  {
   "cell_type": "markdown",
   "id": "cbc3a964",
   "metadata": {},
   "source": [
    "To retrieve a single document from a collection that matches a given query (specific criteria), we use ``find_one`` method. \n",
    "If multiple documents match the query, only the first one found (according to its natural order, which reflects the order of documents on the disk) will be returned."
   ]
  },
  {
   "cell_type": "code",
   "execution_count": null,
   "id": "4ab380f3",
   "metadata": {},
   "outputs": [],
   "source": [
    "# to show the first document in the collection\n",
    "pprint.pprint(collection.find_one({}))\n",
    "\n",
    "print(\"---------------------------------------------------------------\")\n",
    "\n",
    "# to show the first document in the collection that has author as a key and Mike as a value\n",
    "\n",
    "pprint.pprint(collection.find_one({\"author\": \"Mike\"}))\n",
    "\n",
    "print(\"---------------------------------------------------------------\")\n",
    "\n",
    "pprint.pprint(collection.find_one({\"author\": \"Atie\"}))"
   ]
  },
  {
   "cell_type": "markdown",
   "id": "a5a81327",
   "metadata": {},
   "source": [
    "\n",
    "## Inserting Many Documents"
   ]
  },
  {
   "cell_type": "markdown",
   "id": "d79ba2ba",
   "metadata": {},
   "source": [
    "```insert_many()``` This method is used to insert multiple entries in a collection or the database in MongoDB. the parameter of this method is a list that contains dictionaries of the data that we want to insert in the collection.\n",
    "This is faster and more straightforward than calling ```.insert_one()``` multiple times. The call to ```.insert_many()``` takes an iterable documents and insert them into the collection in your databse."
   ]
  },
  {
   "cell_type": "code",
   "execution_count": null,
   "id": "fe07c433",
   "metadata": {},
   "outputs": [],
   "source": [
    "post_2 = {\"author\": \"Atie\",\n",
    "       \"text\": \"I am your teacher!\",\n",
    "       \"tags\": [\"analytics\", \"python\", \"bigdata\"],\n",
    "       \"date\": datetime.datetime.utcnow()}\n",
    "\n",
    "post_3 = {\"author\": \"David\",\n",
    "       \"text\": \"The best Uni!\",\n",
    "       \"tags\": [\"test1\", \"test2\", \"test3\"],\n",
    "       \"date\": datetime.datetime.utcnow()}"
   ]
  },
  {
   "cell_type": "code",
   "execution_count": null,
   "id": "4286da44",
   "metadata": {},
   "outputs": [],
   "source": [
    "more_posts = collection.insert_many([post_2, post_3])"
   ]
  },
  {
   "cell_type": "markdown",
   "id": "ce3ee9b1",
   "metadata": {},
   "source": [
    "```.inserted_ids``` provides a way to quickly retrieve the IDs of the documents you've just added, especially useful when the database automatically assigns these IDs (using ObjectId)."
   ]
  },
  {
   "cell_type": "code",
   "execution_count": null,
   "id": "f601fb37",
   "metadata": {},
   "outputs": [],
   "source": [
    "more_posts.inserted_ids"
   ]
  },
  {
   "cell_type": "markdown",
   "id": "94f292be",
   "metadata": {},
   "source": [
    "\n",
    "This code iterates over the IDs of the recently inserted documents in the collection (obtained from `new_result.inserted_ids`). For each ID, it fetches and pretty-prints the corresponding document from the collection using the `find_one` method.\n"
   ]
  },
  {
   "cell_type": "code",
   "execution_count": null,
   "id": "ed3b2fff",
   "metadata": {},
   "outputs": [],
   "source": [
    "for i in more_posts.inserted_ids:\n",
    "    pprint.pprint(collection.find_one({\"_id\": i}))"
   ]
  },
  {
   "cell_type": "code",
   "execution_count": null,
   "id": "400679c9",
   "metadata": {},
   "outputs": [],
   "source": [
    "pprint.pprint(collection.find())\n",
    "print(\"---------------------------------------------------------------\")\n",
    "\n",
    "# to show the first document in the collection\n",
    "pprint.pprint(collection.find_one({}))\n",
    "print(\"---------------------------------------------------------------\")\n",
    "\n",
    "# to show the first document in the collection that has author as a key and Mike as a value\n",
    "\n",
    "pprint.pprint(collection.find_one({\"author\": \"Mike\"}))\n",
    "print(\"---------------------------------------------------------------\")\n",
    "\n",
    "pprint.pprint(collection.find_one({\"author\": \"Atie\"}))\n"
   ]
  },
  {
   "cell_type": "code",
   "execution_count": null,
   "id": "7a103099",
   "metadata": {
    "scrolled": true
   },
   "outputs": [],
   "source": [
    "for r in collection.find({}):\n",
    "    pprint.pprint(r)"
   ]
  },
  {
   "cell_type": "code",
   "execution_count": null,
   "id": "a29a4c03",
   "metadata": {},
   "outputs": [],
   "source": [
    "query_result = collection.find({\"author\": \"Mike\"})"
   ]
  },
  {
   "cell_type": "code",
   "execution_count": null,
   "id": "6ae3be35",
   "metadata": {},
   "outputs": [],
   "source": [
    "pprint.pprint(query_result[0])"
   ]
  },
  {
   "cell_type": "code",
   "execution_count": null,
   "id": "8d193e4a",
   "metadata": {},
   "outputs": [],
   "source": [
    "for r in query_result:\n",
    "    pprint.pprint(r)"
   ]
  },
  {
   "cell_type": "markdown",
   "id": "57e8dcad",
   "metadata": {},
   "source": [
    "### Update"
   ]
  },
  {
   "cell_type": "code",
   "execution_count": null,
   "id": "a15ad7a9",
   "metadata": {},
   "outputs": [],
   "source": [
    "post_4 = {\"author\": \"Mike\",\n",
    "       \"text\": \"hahahahaha!\",\n",
    "       \"tags\": [\"analytics\", \"python\", \"bigdata\"],\n",
    "       \"date\": datetime.datetime.utcnow()}"
   ]
  },
  {
   "cell_type": "code",
   "execution_count": null,
   "id": "3973ce90",
   "metadata": {},
   "outputs": [],
   "source": [
    "post_5 = {\"author\": \"David\",\n",
    "       \"text\": \"hahaha jsshs sbgs sjshaha!\",\n",
    "       \"tags\": [\"analytics\", \"python\", \"bigdata\"],\n",
    "       \"date\": datetime.datetime.utcnow()}"
   ]
  },
  {
   "cell_type": "code",
   "execution_count": null,
   "id": "f3372e57",
   "metadata": {},
   "outputs": [],
   "source": [
    "#collection.insert_one(post_4)\n",
    "collection.insert_one(post_5)"
   ]
  },
  {
   "cell_type": "code",
   "execution_count": null,
   "id": "ec45ed9c",
   "metadata": {},
   "outputs": [],
   "source": [
    "collection.update_one({\"author\": \"Mike\"}, {\"$set\": {\"author\": \"Jack\"}})\n"
   ]
  },
  {
   "cell_type": "code",
   "execution_count": null,
   "id": "f8a93670",
   "metadata": {},
   "outputs": [],
   "source": [
    "for r in collection.find({}):\n",
    "    pprint.pprint(r)"
   ]
  },
  {
   "cell_type": "code",
   "execution_count": null,
   "id": "c860bf0a",
   "metadata": {},
   "outputs": [],
   "source": [
    "collection.update_many({\"author\": \"David\"}, {\"$set\": {\"author\": \"Jack\"}})"
   ]
  },
  {
   "cell_type": "code",
   "execution_count": null,
   "id": "04826f74",
   "metadata": {},
   "outputs": [],
   "source": [
    "for r in collection.find({}):\n",
    "    pprint.pprint(r)"
   ]
  },
  {
   "cell_type": "markdown",
   "id": "f681157b",
   "metadata": {},
   "source": [
    "### Delete"
   ]
  },
  {
   "cell_type": "code",
   "execution_count": null,
   "id": "459b0f48",
   "metadata": {},
   "outputs": [],
   "source": [
    "collection.delete_one({\"author\": \"Mike\"})"
   ]
  },
  {
   "cell_type": "code",
   "execution_count": null,
   "id": "736d275c",
   "metadata": {},
   "outputs": [],
   "source": [
    "for r in collection.find({}):\n",
    "    pprint.pprint(r)"
   ]
  },
  {
   "cell_type": "code",
   "execution_count": null,
   "id": "5ff84e93",
   "metadata": {},
   "outputs": [],
   "source": [
    "collection.delete_many({\"author\": \"Jack\"})"
   ]
  },
  {
   "cell_type": "code",
   "execution_count": null,
   "id": "4e28b579",
   "metadata": {},
   "outputs": [],
   "source": [
    "for r in collection.find({}):\n",
    "    pprint.pprint(r)"
   ]
  },
  {
   "cell_type": "code",
   "execution_count": null,
   "id": "5ca44de7",
   "metadata": {},
   "outputs": [],
   "source": [
    "# to delete a database you can use client.drop_database('database_name')\n",
    "\n",
    "client.drop_database('post_database')"
   ]
  },
  {
   "cell_type": "code",
   "execution_count": null,
   "id": "2a02a844",
   "metadata": {},
   "outputs": [],
   "source": []
  }
 ],
 "metadata": {
  "kernelspec": {
   "display_name": "Python 3 (ipykernel)",
   "language": "python",
   "name": "python3"
  },
  "language_info": {
   "codemirror_mode": {
    "name": "ipython",
    "version": 3
   },
   "file_extension": ".py",
   "mimetype": "text/x-python",
   "name": "python",
   "nbconvert_exporter": "python",
   "pygments_lexer": "ipython3",
   "version": "3.11.4"
  }
 },
 "nbformat": 4,
 "nbformat_minor": 5
}
