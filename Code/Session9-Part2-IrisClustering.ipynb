{
 "cells": [
  {
   "cell_type": "markdown",
   "id": "418e57dd",
   "metadata": {},
   "source": [
    "The **Iris dataset** is a classic dataset in the field of machine learning and statistics, often used for testing classification algorithms. It contains data about three species of Iris flowers: Setosa, Versicolour, and Virginica. The dataset was introduced by the British statistician and biologist Ronald Fisher in 1936 as an example of discriminant analysis."
   ]
  },
  {
   "cell_type": "code",
   "execution_count": null,
   "id": "d417b70a",
   "metadata": {},
   "outputs": [],
   "source": [
    "from sklearn.datasets import load_iris\n",
    "from sklearn.cluster import KMeans, AgglomerativeClustering\n",
    "import matplotlib.pyplot as plt\n",
    "import seaborn as sns\n",
    "import pandas as pd\n"
   ]
  },
  {
   "cell_type": "markdown",
   "id": "f5a3b82f",
   "metadata": {},
   "source": [
    "The line X = iris.data in Python, when using the context of the Iris dataset from scikit-learn, is used to extract the feature data from the dataset and assign it to the variable X."
   ]
  },
  {
   "cell_type": "code",
   "execution_count": null,
   "id": "d38a88ae",
   "metadata": {},
   "outputs": [],
   "source": [
    "# Load the Iris dataset\n",
    "iris = load_iris()\n",
    "X = iris.data\n",
    "print(iris)\n",
    "\n"
   ]
  },
  {
   "cell_type": "code",
   "execution_count": null,
   "id": "032ac29c",
   "metadata": {},
   "outputs": [],
   "source": [
    "print(X)"
   ]
  },
  {
   "cell_type": "code",
   "execution_count": null,
   "id": "6ba0d4d2",
   "metadata": {},
   "outputs": [],
   "source": [
    "# Elbow Method to determine the number of clusters for KMeans\n",
    "wcss = []\n",
    "for i in range(1, 11):\n",
    "    kmeans = KMeans(n_clusters=i, init='k-means++', max_iter=300, n_init=10, random_state=0)\n",
    "    kmeans.fit(X)\n",
    "    wcss.append(kmeans.inertia_)\n",
    "\n"
   ]
  },
  {
   "cell_type": "code",
   "execution_count": null,
   "id": "9e93d50a",
   "metadata": {},
   "outputs": [],
   "source": [
    "# Plotting the Elbow Method results to visualize the optimal number of clusters\n",
    "plt.figure(figsize=(10, 5))\n",
    "plt.plot(range(1, 11), wcss)\n",
    "plt.title('Elbow Method')\n",
    "plt.xlabel('Number of clusters')\n",
    "plt.ylabel('WCSS')\n",
    "plt.show()\n",
    "\n"
   ]
  },
  {
   "cell_type": "code",
   "execution_count": null,
   "id": "1f95e823",
   "metadata": {},
   "outputs": [],
   "source": [
    "# Assuming the optimal number of clusters is 3 (based on the Elbow Method)\n",
    "optimal_clusters = 3\n",
    "\n"
   ]
  },
  {
   "cell_type": "code",
   "execution_count": null,
   "id": "949e7d74",
   "metadata": {
    "scrolled": false
   },
   "outputs": [],
   "source": [
    "# KMeans Clustering with determined number of clusters\n",
    "kmeans = KMeans(n_clusters=optimal_clusters, random_state=0)\n",
    "kmeans_labels = kmeans.fit_predict(X)\n",
    "\n",
    "# Hierarchical Clustering with the same number of clusters\n",
    "hier_cluster = AgglomerativeClustering(n_clusters=optimal_clusters)\n",
    "hier_labels = hier_cluster.fit_predict(X)\n",
    "\n",
    "# The 'kmeans_labels' and 'hier_labels' variables contain the cluster labels assigned to each sample in the dataset\n",
    "# Convert the dataset to a DataFrame and add the cluster labels\n",
    "iris_df = pd.DataFrame(X, columns=iris.feature_names)\n",
    "iris_df['Cluster_Label'] = kmeans_labels\n",
    "\n",
    "# Visualize the results using seaborn's pairplot\n",
    "sns.pairplot(iris_df, hue='Cluster_Label', palette='bright')\n",
    "plt.show()"
   ]
  },
  {
   "cell_type": "markdown",
   "id": "e0349db6",
   "metadata": {},
   "source": [
    "The clustering results on the Iris dataset using KMeans have been visualized with a pair plot. This plot uses seaborn's pairplot function to display pairwise relationships in the dataset. Each plot in the grid represents a pair of features from the dataset, and the points are colored based on the cluster labels assigned by the KMeans algorithm."
   ]
  },
  {
   "cell_type": "code",
   "execution_count": null,
   "id": "cc319225",
   "metadata": {},
   "outputs": [],
   "source": [
    "# Modify the cluster labels to use the species names instead of numerical labels\n",
    "cluster_names = {0: 'Setosa', 1: 'Versicolour', 2: 'Virginica'}\n",
    "iris_df['Cluster_Label'] = iris_df['Cluster_Label'].map(cluster_names)\n",
    "\n",
    "# Visualize the results again with the updated cluster names\n",
    "sns.pairplot(iris_df, hue='Cluster_Label', palette='bright')\n",
    "plt.show()"
   ]
  },
  {
   "cell_type": "markdown",
   "id": "5a076ed1",
   "metadata": {},
   "source": [
    "### Here's a breakdown of what they show and the insights they can provide:\n",
    "\n",
    "**Pairwise Relationships:** Each plot in the grid represents a pairwise relationship between two features of the Iris dataset. Since there are four features (sepal length, sepal width, petal length, and petal width), the grid consists of a 4x4 matrix of plots.\n",
    "\n",
    "**Distribution of Individual Features:** The diagonal plots in the grid are not scatter plots but histograms. These show the distribution of each feature. For instance, you can see how sepal length varies across all samples, regardless of the species.\n",
    "\n",
    "**Scatter Plots for Feature Combinations:** The off-diagonal plots are scatter plots representing the relationship between pairs of features. For example, one plot might show sepal length (x-axis) vs. sepal width (y-axis). These plots help in understanding how these features correlate with each other.\n",
    "\n",
    "**Cluster Identification:** Points in each scatter plot are colored based on the cluster label assigned by the KMeans algorithm. This coloring helps to visually identify how well the algorithm has clustered the data. Ideally, points of the same color (i.e., from the same cluster) should form distinct groups, indicating that the algorithm has successfully identified patterns in the data.\n",
    "\n",
    "**Insights on Feature Influence in Clustering:** By observing how points are grouped in different scatter plots, one can infer which features contribute more to the separation between clusters. For instance, if points are well-separated in the plot of petal length vs. petal width but not as much in sepal length vs. sepal width, it suggests that petal measurements are more influential in defining these clusters.\n",
    "\n",
    "**Potential Overlaps and Misclassifications:** Areas where different colored points overlap indicate potential misclassifications by the algorithm or regions where the clusters are not very distinct. This can be a signal to try different parameters in the clustering algorithm or consider more complex models."
   ]
  },
  {
   "cell_type": "markdown",
   "id": "a86d227a",
   "metadata": {},
   "source": [
    "### Iris 3D Visualisation"
   ]
  },
  {
   "cell_type": "code",
   "execution_count": null,
   "id": "382e88e5",
   "metadata": {},
   "outputs": [],
   "source": [
    "# Code source: Gaël Varoquaux\n",
    "# Modified for documentation by Jaques Grobler\n",
    "# License: BSD 3 clause\n",
    "\n",
    "import matplotlib.pyplot as plt\n",
    "\n",
    "# Though the following import is not directly being used, it is required\n",
    "# for 3D projection to work with matplotlib < 3.2\n",
    "import mpl_toolkits.mplot3d  # noqa: F401\n",
    "import numpy as np\n",
    "\n",
    "from sklearn import datasets\n",
    "from sklearn.cluster import KMeans\n",
    "\n",
    "np.random.seed(5)\n",
    "\n",
    "iris = datasets.load_iris()\n",
    "X = iris.data\n",
    "y = iris.target\n",
    "\n",
    "estimators = [\n",
    "    (\"k_means_iris_8\", KMeans(n_clusters=8, n_init=\"auto\")),\n",
    "    (\"k_means_iris_3\", KMeans(n_clusters=3, n_init=\"auto\")),\n",
    "    (\"k_means_iris_bad_init\", KMeans(n_clusters=3, n_init=1, init=\"random\")),\n",
    "]\n",
    "\n",
    "fig = plt.figure(figsize=(10, 8))\n",
    "titles = [\"8 clusters\", \"3 clusters\", \"3 clusters, bad initialization\"]\n",
    "for idx, ((name, est), title) in enumerate(zip(estimators, titles)):\n",
    "    ax = fig.add_subplot(2, 2, idx + 1, projection=\"3d\", elev=48, azim=134)\n",
    "    est.fit(X)\n",
    "    labels = est.labels_\n",
    "\n",
    "    ax.scatter(X[:, 3], X[:, 0], X[:, 2], c=labels.astype(float), edgecolor=\"k\")\n",
    "\n",
    "    ax.xaxis.set_ticklabels([])\n",
    "    ax.yaxis.set_ticklabels([])\n",
    "    ax.zaxis.set_ticklabels([])\n",
    "    ax.set_xlabel(\"Petal width\")\n",
    "    ax.set_ylabel(\"Sepal length\")\n",
    "    ax.set_zlabel(\"Petal length\")\n",
    "    ax.set_title(title)\n",
    "\n",
    "# Plot the ground truth\n",
    "ax = fig.add_subplot(2, 2, 4, projection=\"3d\", elev=48, azim=134)\n",
    "\n",
    "for name, label in [(\"Setosa\", 0), (\"Versicolour\", 1), (\"Virginica\", 2)]:\n",
    "    ax.text3D(\n",
    "        X[y == label, 3].mean(),\n",
    "        X[y == label, 0].mean(),\n",
    "        X[y == label, 2].mean() + 2,\n",
    "        name,\n",
    "        horizontalalignment=\"center\",\n",
    "        bbox=dict(alpha=0.2, edgecolor=\"w\", facecolor=\"w\"),\n",
    "    )\n",
    "# Reorder the labels to have colors matching the cluster results\n",
    "y = np.choose(y, [1, 2, 0]).astype(float)\n",
    "ax.scatter(X[:, 3], X[:, 0], X[:, 2], c=y, edgecolor=\"k\")\n",
    "\n",
    "ax.xaxis.set_ticklabels([])\n",
    "ax.yaxis.set_ticklabels([])\n",
    "ax.zaxis.set_ticklabels([])\n",
    "ax.set_xlabel(\"Petal width\")\n",
    "ax.set_ylabel(\"Sepal length\")\n",
    "ax.set_zlabel(\"Petal length\")\n",
    "ax.set_title(\"Ground Truth\")\n",
    "\n",
    "plt.subplots_adjust(wspace=0.25, hspace=0.25)\n",
    "plt.show()"
   ]
  },
  {
   "cell_type": "code",
   "execution_count": null,
   "id": "8d96bd76",
   "metadata": {},
   "outputs": [],
   "source": []
  }
 ],
 "metadata": {
  "kernelspec": {
   "display_name": "Python 3 (ipykernel)",
   "language": "python",
   "name": "python3"
  },
  "language_info": {
   "codemirror_mode": {
    "name": "ipython",
    "version": 3
   },
   "file_extension": ".py",
   "mimetype": "text/x-python",
   "name": "python",
   "nbconvert_exporter": "python",
   "pygments_lexer": "ipython3",
   "version": "3.11.4"
  }
 },
 "nbformat": 4,
 "nbformat_minor": 5
}
