{
 "cells": [
  {
   "cell_type": "code",
   "execution_count": 1,
   "id": "5da74b46",
   "metadata": {},
   "outputs": [],
   "source": [
    "#Import Libraries\n",
    "\n",
    "from pyspark.sql import SparkSession\n",
    "\n",
    "# Create Spark Context\n",
    "from pyspark.sql import functions as func # To use 'sum', 'count', and other functions\n",
    "from pyspark.sql.types import IntegerType, DoubleType"
   ]
  },
  {
   "cell_type": "markdown",
   "id": "79fcd849",
   "metadata": {},
   "source": [
    "### Pandas vs PySpark\n",
    "The complexity of Data Processing Tasks: PySpark is more suitable for complex data processing tasks that involve multiple stages of data transformation and analysis. Pandas is more suitable for simple data analysis tasks that involve filtering, selecting, and aggregating data."
   ]
  },
  {
   "cell_type": "code",
   "execution_count": 2,
   "id": "c81989a1",
   "metadata": {},
   "outputs": [],
   "source": [
    "import pandas as pd # Python library to manage dataframes, similar as PySpark"
   ]
  },
  {
   "cell_type": "code",
   "execution_count": 4,
   "id": "263ad91c",
   "metadata": {},
   "outputs": [],
   "source": [
    "spark = SparkSession.builder.getOrCreate()"
   ]
  },
  {
   "cell_type": "code",
   "execution_count": 5,
   "id": "efea30dd",
   "metadata": {},
   "outputs": [
    {
     "name": "stdout",
     "output_type": "stream",
     "text": [
      "+---+-------------+-------+---------+-------+-------+-------+----+--------+---+-----+--------+--------+-----+--------+--------+---+\n",
      "|age|          job|marital|education|default|balance|housing|loan| contact|day|month|duration|campaign|pdays|previous|poutcome|  y|\n",
      "+---+-------------+-------+---------+-------+-------+-------+----+--------+---+-----+--------+--------+-----+--------+--------+---+\n",
      "| 30|   unemployed|married|  primary|     no|   1787|     no|  no|cellular| 19|  oct|      79|       1|   -1|       0| unknown| no|\n",
      "| 33|     services|married|secondary|     no|   4789|    yes| yes|cellular| 11|  may|     220|       1|  339|       4| failure| no|\n",
      "| 35|   management| single| tertiary|     no|   1350|    yes|  no|cellular| 16|  apr|     185|       1|  330|       1| failure| no|\n",
      "| 30|   management|married| tertiary|     no|   1476|    yes| yes| unknown|  3|  jun|     199|       4|   -1|       0| unknown| no|\n",
      "| 59|  blue-collar|married|secondary|     no|      0|    yes|  no| unknown|  5|  may|     226|       1|   -1|       0| unknown| no|\n",
      "| 35|   management| single| tertiary|     no|    747|     no|  no|cellular| 23|  feb|     141|       2|  176|       3| failure| no|\n",
      "| 36|self-employed|married| tertiary|     no|    307|    yes|  no|cellular| 14|  may|     341|       1|  330|       2|   other| no|\n",
      "| 39|   technician|married|secondary|     no|    147|    yes|  no|cellular|  6|  may|     151|       2|   -1|       0| unknown| no|\n",
      "| 41| entrepreneur|married| tertiary|     no|    221|    yes|  no| unknown| 14|  may|      57|       2|   -1|       0| unknown| no|\n",
      "| 43|     services|married|  primary|     no|    -88|    yes| yes|cellular| 17|  apr|     313|       1|  147|       2| failure| no|\n",
      "| 39|     services|married|secondary|     no|   9374|    yes|  no| unknown| 20|  may|     273|       1|   -1|       0| unknown| no|\n",
      "| 43|       admin.|married|secondary|     no|    264|    yes|  no|cellular| 17|  apr|     113|       2|   -1|       0| unknown| no|\n",
      "| 36|   technician|married| tertiary|     no|   1109|     no|  no|cellular| 13|  aug|     328|       2|   -1|       0| unknown| no|\n",
      "| 20|      student| single|secondary|     no|    502|     no|  no|cellular| 30|  apr|     261|       1|   -1|       0| unknown|yes|\n",
      "| 31|  blue-collar|married|secondary|     no|    360|    yes| yes|cellular| 29|  jan|      89|       1|  241|       1| failure| no|\n",
      "| 40|   management|married| tertiary|     no|    194|     no| yes|cellular| 29|  aug|     189|       2|   -1|       0| unknown| no|\n",
      "| 56|   technician|married|secondary|     no|   4073|     no|  no|cellular| 27|  aug|     239|       5|   -1|       0| unknown| no|\n",
      "| 37|       admin.| single| tertiary|     no|   2317|    yes|  no|cellular| 20|  apr|     114|       1|  152|       2| failure| no|\n",
      "| 25|  blue-collar| single|  primary|     no|   -221|    yes|  no| unknown| 23|  may|     250|       1|   -1|       0| unknown| no|\n",
      "| 31|     services|married|secondary|     no|    132|     no|  no|cellular|  7|  jul|     148|       1|  152|       1|   other| no|\n",
      "+---+-------------+-------+---------+-------+-------+-------+----+--------+---+-----+--------+--------+-----+--------+--------+---+\n",
      "only showing top 20 rows\n",
      "\n"
     ]
    }
   ],
   "source": [
    "bank_data = spark.read.option('header','true').options(delimiter=\";\").csv('bank.csv', inferSchema=True)\n",
    "bank_data.show()\n",
    "\n",
    "# NOTE:\n",
    "# What is inferSchema=True???\n",
    "# Infer schema will automatically guess the data types for each field. If we set this option to TRUE, the API will read some sample records from the file to infer the schema. If we want to set this value to false, we must specify a schema explicitly"
   ]
  },
  {
   "cell_type": "code",
   "execution_count": 6,
   "id": "2da9806e",
   "metadata": {},
   "outputs": [
    {
     "name": "stdout",
     "output_type": "stream",
     "text": [
      "root\n",
      " |-- age: integer (nullable = true)\n",
      " |-- job: string (nullable = true)\n",
      " |-- marital: string (nullable = true)\n",
      " |-- education: string (nullable = true)\n",
      " |-- default: string (nullable = true)\n",
      " |-- balance: integer (nullable = true)\n",
      " |-- housing: string (nullable = true)\n",
      " |-- loan: string (nullable = true)\n",
      " |-- contact: string (nullable = true)\n",
      " |-- day: integer (nullable = true)\n",
      " |-- month: string (nullable = true)\n",
      " |-- duration: integer (nullable = true)\n",
      " |-- campaign: integer (nullable = true)\n",
      " |-- pdays: integer (nullable = true)\n",
      " |-- previous: integer (nullable = true)\n",
      " |-- poutcome: string (nullable = true)\n",
      " |-- y: string (nullable = true)\n",
      "\n"
     ]
    }
   ],
   "source": [
    "# Showing the type of each column\n",
    "\n",
    "bank_data.printSchema()"
   ]
  },
  {
   "cell_type": "code",
   "execution_count": 7,
   "id": "5e253d6c",
   "metadata": {},
   "outputs": [
    {
     "data": {
      "text/plain": [
       "[Row(age=30, job='unemployed', marital='married', education='primary', default='no', balance=1787, housing='no', loan='no', contact='cellular', day=19, month='oct', duration=79, campaign=1, pdays=-1, previous=0, poutcome='unknown', y='no'),\n",
       " Row(age=33, job='services', marital='married', education='secondary', default='no', balance=4789, housing='yes', loan='yes', contact='cellular', day=11, month='may', duration=220, campaign=1, pdays=339, previous=4, poutcome='failure', y='no'),\n",
       " Row(age=35, job='management', marital='single', education='tertiary', default='no', balance=1350, housing='yes', loan='no', contact='cellular', day=16, month='apr', duration=185, campaign=1, pdays=330, previous=1, poutcome='failure', y='no'),\n",
       " Row(age=30, job='management', marital='married', education='tertiary', default='no', balance=1476, housing='yes', loan='yes', contact='unknown', day=3, month='jun', duration=199, campaign=4, pdays=-1, previous=0, poutcome='unknown', y='no'),\n",
       " Row(age=59, job='blue-collar', marital='married', education='secondary', default='no', balance=0, housing='yes', loan='no', contact='unknown', day=5, month='may', duration=226, campaign=1, pdays=-1, previous=0, poutcome='unknown', y='no')]"
      ]
     },
     "execution_count": 7,
     "metadata": {},
     "output_type": "execute_result"
    }
   ],
   "source": [
    "# Showing the first 5 rows of data\n",
    "\n",
    "bank_data.head(5)"
   ]
  },
  {
   "cell_type": "markdown",
   "id": "bcd8d389",
   "metadata": {},
   "source": [
    "## TASK 1"
   ]
  },
  {
   "cell_type": "markdown",
   "id": "147fc880",
   "metadata": {},
   "source": [
    "### Calculate the Mean, Median, and Standard Deviation of all the variables/attributes of numeric type:"
   ]
  },
  {
   "cell_type": "markdown",
   "id": "766ab85a",
   "metadata": {},
   "source": [
    "**Getting a Database:** Once you have a connected aninstance of MngoClient, you can access any database managed by the specified MngoDB server. To define which database you want to use, you can use the dot notation."
   ]
  },
  {
   "cell_type": "markdown",
   "id": "c65e8f40",
   "metadata": {},
   "source": [
    "### Method 1"
   ]
  },
  {
   "cell_type": "markdown",
   "id": "cbcdb6c8",
   "metadata": {},
   "source": [
    "### Using 'describe' function to provide the basic statisticsa"
   ]
  },
  {
   "cell_type": "code",
   "execution_count": 9,
   "id": "e5c2faba",
   "metadata": {},
   "outputs": [
    {
     "name": "stdout",
     "output_type": "stream",
     "text": [
      "+-------+------------------+------------------+------------------+------------------+------------------+------------------+\n",
      "|summary|               age|           balance|               day|          duration|             pdays|          previous|\n",
      "+-------+------------------+------------------+------------------+------------------+------------------+------------------+\n",
      "|  count|              4521|              4521|              4521|              4521|              4521|              4521|\n",
      "|   mean| 41.17009511170095|1422.6578190665782|15.915284229152842|263.96129174961294|39.766644547666445|0.5425790754257908|\n",
      "| stddev|10.576210958711263|3009.6381424673395| 8.247667327229934|259.85663262468216|100.12112444301656|1.6935623506071211|\n",
      "|    min|                19|             -3313|                 1|                 4|                -1|                 0|\n",
      "|    max|                87|             71188|                31|              3025|               871|                25|\n",
      "+-------+------------------+------------------+------------------+------------------+------------------+------------------+\n",
      "\n"
     ]
    }
   ],
   "source": [
    "bank_data.select('age', 'balance', 'day', 'duration', 'pdays', 'previous').describe().show()"
   ]
  },
  {
   "cell_type": "markdown",
   "id": "ca695069",
   "metadata": {},
   "source": [
    "### Method 2"
   ]
  },
  {
   "cell_type": "code",
   "execution_count": 10,
   "id": "83908737",
   "metadata": {},
   "outputs": [
    {
     "name": "stdout",
     "output_type": "stream",
     "text": [
      "+------------------+\n",
      "|  stddev_samp(age)|\n",
      "+------------------+\n",
      "|10.576210958711263|\n",
      "+------------------+\n",
      "\n"
     ]
    }
   ],
   "source": [
    "bank_data.select(func.stddev('age')).show()"
   ]
  },
  {
   "cell_type": "code",
   "execution_count": 11,
   "id": "b6b3640b",
   "metadata": {},
   "outputs": [
    {
     "name": "stdout",
     "output_type": "stream",
     "text": [
      "+-----------------+\n",
      "|         avg(age)|\n",
      "+-----------------+\n",
      "|41.17009511170095|\n",
      "+-----------------+\n",
      "\n"
     ]
    }
   ],
   "source": [
    "bank_data.select(func.mean('age')).show()"
   ]
  },
  {
   "cell_type": "code",
   "execution_count": 12,
   "id": "58a833bc",
   "metadata": {},
   "outputs": [
    {
     "name": "stdout",
     "output_type": "stream",
     "text": [
      "+--------+\n",
      "|max(age)|\n",
      "+--------+\n",
      "|      87|\n",
      "+--------+\n",
      "\n"
     ]
    }
   ],
   "source": [
    "bank_data.select(func.max('age')).show()"
   ]
  },
  {
   "cell_type": "code",
   "execution_count": 13,
   "id": "0fc4c6eb",
   "metadata": {},
   "outputs": [
    {
     "name": "stdout",
     "output_type": "stream",
     "text": [
      "+--------+\n",
      "|min(age)|\n",
      "+--------+\n",
      "|      19|\n",
      "+--------+\n",
      "\n"
     ]
    }
   ],
   "source": [
    "bank_data.select(func.min('age')).show()"
   ]
  },
  {
   "cell_type": "code",
   "execution_count": 14,
   "id": "6d10f797",
   "metadata": {},
   "outputs": [
    {
     "data": {
      "text/plain": [
       "Row(avg(age)=41.17009511170095, avg(job)=None, avg(marital)=None, avg(education)=None, avg(default)=None, avg(balance)=1422.6578190665782, avg(housing)=None, avg(loan)=None, avg(contact)=None, avg(day)=15.915284229152842, avg(month)=None, avg(duration)=263.96129174961294, avg(campaign)=2.793629727936297, avg(pdays)=39.766644547666445, avg(previous)=0.5425790754257908, avg(poutcome)=None, avg(y)=None)"
      ]
     },
     "execution_count": 14,
     "metadata": {},
     "output_type": "execute_result"
    }
   ],
   "source": [
    "#Mean of all columns\n",
    "bank_data.select([func.mean(c) for c in bank_data.columns]).first()"
   ]
  },
  {
   "cell_type": "markdown",
   "id": "41bd7866",
   "metadata": {},
   "source": [
    "### Task 2"
   ]
  },
  {
   "cell_type": "markdown",
   "id": "2629ab4f",
   "metadata": {},
   "source": [
    "### Create a bar graph of the variables/attribute: Previous"
   ]
  },
  {
   "cell_type": "markdown",
   "id": "36cea962",
   "metadata": {},
   "source": [
    "#### We can  use the built-in functionality of Pandas to draw a chart"
   ]
  },
  {
   "cell_type": "markdown",
   "id": "5fc04827",
   "metadata": {},
   "source": [
    "### Notes\n",
    "\n",
    "ascending = False means from highest to lowest\n",
    "\n",
    "groupBy: It is used for grouping the data points (i.e. rows) based on the distinct values in the given column or columns. We can then calculate aggregated values for the generated groups.\n",
    "\n",
    "orderBy: Sorting\n"
   ]
  },
  {
   "cell_type": "code",
   "execution_count": 15,
   "id": "29a1a6e1",
   "metadata": {},
   "outputs": [
    {
     "data": {
      "text/plain": [
       "[Row(job='management', sum(age)=39284, sum(balance)=1712154, sum(day)=15751, sum(duration)=252460, sum(campaign)=2881, sum(pdays)=39698, sum(previous)=532),\n",
       " Row(job='blue-collar', sum(age)=37988, sum(balance)=1026563, sum(day)=14646, sum(duration)=263141, sum(campaign)=2693, sum(pdays)=39345, sum(previous)=467),\n",
       " Row(job='technician', sum(age)=30313, sum(balance)=1022205, sum(day)=12429, sum(duration)=193673, sum(campaign)=2098, sum(pdays)=30156, sum(previous)=443),\n",
       " Row(job='admin.', sum(age)=18968, sum(balance)=586380, sum(day)=7803, sum(duration)=112172, sum(campaign)=1258, sum(pdays)=23897, sum(previous)=308),\n",
       " Row(job='services', sum(age)=16084, sum(balance)=460350, sum(day)=6470, sum(duration)=109457, sum(campaign)=1177, sum(pdays)=15167, sum(previous)=185),\n",
       " Row(job='retired', sum(age)=14230, sum(balance)=533414, sum(day)=3578, sum(duration)=65701, sum(campaign)=567, sum(pdays)=8067, sum(previous)=136),\n",
       " Row(job='self-employed', sum(age)=7586, sum(balance)=254811, sum(day)=2961, sum(duration)=48335, sum(campaign)=600, sum(pdays)=5171, sum(previous)=108),\n",
       " Row(job='student', sum(age)=2253, sum(balance)=129681, sum(day)=1377, sum(duration)=20890, sum(campaign)=201, sum(pdays)=3840, sum(previous)=81),\n",
       " Row(job='entrepreneur', sum(age)=7058, sum(balance)=276381, sum(day)=2563, sum(duration)=47960, sum(campaign)=435, sum(pdays)=5422, sum(previous)=72),\n",
       " Row(job='unemployed', sum(age)=5236, sum(balance)=139446, sum(day)=2060, sum(duration)=38562, sum(campaign)=343, sum(pdays)=4688, sum(previous)=62)]"
      ]
     },
     "execution_count": 15,
     "metadata": {},
     "output_type": "execute_result"
    }
   ],
   "source": [
    "# Create a new dataframe in which the rows are groups based on the distict values of 'job' column\n",
    "df = bank_data.groupBy('job').sum().orderBy(\"sum(previous)\", ascending=False)\n",
    "df.head(10)"
   ]
  },
  {
   "cell_type": "markdown",
   "id": "f8915e7f",
   "metadata": {},
   "source": [
    "#### Method 1: Using Pandas to graph"
   ]
  },
  {
   "cell_type": "code",
   "execution_count": 16,
   "id": "490a049c",
   "metadata": {},
   "outputs": [
    {
     "data": {
      "text/plain": [
       "<Axes: xlabel='job'>"
      ]
     },
     "execution_count": 16,
     "metadata": {},
     "output_type": "execute_result"
    },
    {
     "data": {
      "image/png": "[encoded data removed]",
      "text/plain": [
       "<Figure size 640x480 with 1 Axes>"
      ]
     },
     "metadata": {},
     "output_type": "display_data"
    }
   ],
   "source": [
    "# Convert the PySpark dataframe to Pandas dataframe ( to be able to use the Pandas chart drawing functionality)\n",
    "\n",
    "df.toPandas().plot.bar(x='job', y='sum(previous)')"
   ]
  },
  {
   "cell_type": "markdown",
   "id": "725be3cd",
   "metadata": {},
   "source": [
    "#### Method 2: Using Matplotlib to graph"
   ]
  },
  {
   "cell_type": "code",
   "execution_count": 17,
   "id": "74183b04",
   "metadata": {},
   "outputs": [
    {
     "data": {
      "image/png": "[encoded data removed]",
      "text/plain": [
       "<Figure size 640x480 with 1 Axes>"
      ]
     },
     "metadata": {},
     "output_type": "display_data"
    }
   ],
   "source": [
    "# Matplotlib is a comprehensive library for creating static, animated, and interactive visualizations in Python.\n",
    "\n",
    "import matplotlib.pyplot as plt\n",
    "\n",
    "# Create a bar chart using Matplotlib\n",
    "df_pan = df.toPandas() #Convert the PySpark dataframe to Pandas dataframe\n",
    "\n",
    "plt.bar(df_pan['job'], df_pan['sum(previous)'], width=0.5, color=\"orange\")\n",
    " \n",
    "# Set the chart title and labels\n",
    "plt.title('Plot Title')\n",
    "plt.xlabel('job')\n",
    "plt.ylabel('sum(previous)')\n",
    "\n",
    "plt.xticks(rotation = 90)\n",
    "\n",
    "plt.show()"
   ]
  },
  {
   "cell_type": "markdown",
   "id": "a131a9af",
   "metadata": {},
   "source": [
    "## Task 3"
   ]
  },
  {
   "cell_type": "markdown",
   "id": "b5275359",
   "metadata": {},
   "source": [
    "#### Create a Normalised bar graph of the variable/attribute: Previous"
   ]
  },
  {
   "cell_type": "markdown",
   "id": "005fef1c",
   "metadata": {},
   "source": [
    "### Normalization"
   ]
  },
  {
   "cell_type": "markdown",
   "id": "87bd5e35",
   "metadata": {},
   "source": [
    "**Normalization:** The goal of normalization is to transform features to be on a similar scale. This improves the performance and training stability of the model."
   ]
  },
  {
   "cell_type": "markdown",
   "id": "990c50cf",
   "metadata": {},
   "source": [
    "Add Normalised columns to the inout dataframe."
   ]
  },
  {
   "cell_type": "markdown",
   "id": "27a631af",
   "metadata": {},
   "source": [
    "#### Unsing the min-max feature scaling"
   ]
  },
  {
   "cell_type": "markdown",
   "id": "0800c9df",
   "metadata": {},
   "source": [
    "The min-max approach (often called **Normalization**) rescales the feature to a hard and fast range of [0,1] by subtracting the minimum value of the feature then dividing by the range. We can apply the min-max scaling in Pandas using the `.min()` and `.max()` methods."
   ]
  },
  {
   "cell_type": "markdown",
   "id": "f16b9028",
   "metadata": {},
   "source": [
    "$$\n",
    " \\frac{x-min}{max-min}\n",
    "$$"
   ]
  },
  {
   "cell_type": "code",
   "execution_count": 18,
   "id": "b50363e0",
   "metadata": {},
   "outputs": [],
   "source": [
    "df_result = df.toPandas()\n",
    "df_result[\"sum(previous)_norm\"] = (df_result[\"sum(previous)\"] - df_result[\"sum(previous)\"].min()) / (df_result[\"sum(previous)\"].max()-df_result[\"sum(previous)\"].min())"
   ]
  },
  {
   "cell_type": "code",
   "execution_count": 19,
   "id": "eaef2cba",
   "metadata": {},
   "outputs": [
    {
     "data": {
      "text/html": [
       "<div>\n",
       "<style scoped>\n",
       "    .dataframe tbody tr th:only-of-type {\n",
       "        vertical-align: middle;\n",
       "    }\n",
       "\n",
       "    .dataframe tbody tr th {\n",
       "        vertical-align: top;\n",
       "    }\n",
       "\n",
       "    .dataframe thead th {\n",
       "        text-align: right;\n",
       "    }\n",
       "</style>\n",
       "<table border=\"1\" class=\"dataframe\">\n",
       "  <thead>\n",
       "    <tr style=\"text-align: right;\">\n",
       "      <th></th>\n",
       "      <th>job</th>\n",
       "      <th>sum(age)</th>\n",
       "      <th>sum(balance)</th>\n",
       "      <th>sum(day)</th>\n",
       "      <th>sum(duration)</th>\n",
       "      <th>sum(campaign)</th>\n",
       "      <th>sum(pdays)</th>\n",
       "      <th>sum(previous)</th>\n",
       "      <th>sum(previous)_norm</th>\n",
       "    </tr>\n",
       "  </thead>\n",
       "  <tbody>\n",
       "    <tr>\n",
       "      <th>0</th>\n",
       "      <td>management</td>\n",
       "      <td>39284</td>\n",
       "      <td>1712154</td>\n",
       "      <td>15751</td>\n",
       "      <td>252460</td>\n",
       "      <td>2881</td>\n",
       "      <td>39698</td>\n",
       "      <td>532</td>\n",
       "      <td>1.000000</td>\n",
       "    </tr>\n",
       "    <tr>\n",
       "      <th>1</th>\n",
       "      <td>blue-collar</td>\n",
       "      <td>37988</td>\n",
       "      <td>1026563</td>\n",
       "      <td>14646</td>\n",
       "      <td>263141</td>\n",
       "      <td>2693</td>\n",
       "      <td>39345</td>\n",
       "      <td>467</td>\n",
       "      <td>0.873294</td>\n",
       "    </tr>\n",
       "    <tr>\n",
       "      <th>2</th>\n",
       "      <td>technician</td>\n",
       "      <td>30313</td>\n",
       "      <td>1022205</td>\n",
       "      <td>12429</td>\n",
       "      <td>193673</td>\n",
       "      <td>2098</td>\n",
       "      <td>30156</td>\n",
       "      <td>443</td>\n",
       "      <td>0.826511</td>\n",
       "    </tr>\n",
       "    <tr>\n",
       "      <th>3</th>\n",
       "      <td>admin.</td>\n",
       "      <td>18968</td>\n",
       "      <td>586380</td>\n",
       "      <td>7803</td>\n",
       "      <td>112172</td>\n",
       "      <td>1258</td>\n",
       "      <td>23897</td>\n",
       "      <td>308</td>\n",
       "      <td>0.563353</td>\n",
       "    </tr>\n",
       "    <tr>\n",
       "      <th>4</th>\n",
       "      <td>services</td>\n",
       "      <td>16084</td>\n",
       "      <td>460350</td>\n",
       "      <td>6470</td>\n",
       "      <td>109457</td>\n",
       "      <td>1177</td>\n",
       "      <td>15167</td>\n",
       "      <td>185</td>\n",
       "      <td>0.323587</td>\n",
       "    </tr>\n",
       "    <tr>\n",
       "      <th>5</th>\n",
       "      <td>retired</td>\n",
       "      <td>14230</td>\n",
       "      <td>533414</td>\n",
       "      <td>3578</td>\n",
       "      <td>65701</td>\n",
       "      <td>567</td>\n",
       "      <td>8067</td>\n",
       "      <td>136</td>\n",
       "      <td>0.228070</td>\n",
       "    </tr>\n",
       "    <tr>\n",
       "      <th>6</th>\n",
       "      <td>self-employed</td>\n",
       "      <td>7586</td>\n",
       "      <td>254811</td>\n",
       "      <td>2961</td>\n",
       "      <td>48335</td>\n",
       "      <td>600</td>\n",
       "      <td>5171</td>\n",
       "      <td>108</td>\n",
       "      <td>0.173489</td>\n",
       "    </tr>\n",
       "    <tr>\n",
       "      <th>7</th>\n",
       "      <td>student</td>\n",
       "      <td>2253</td>\n",
       "      <td>129681</td>\n",
       "      <td>1377</td>\n",
       "      <td>20890</td>\n",
       "      <td>201</td>\n",
       "      <td>3840</td>\n",
       "      <td>81</td>\n",
       "      <td>0.120858</td>\n",
       "    </tr>\n",
       "    <tr>\n",
       "      <th>8</th>\n",
       "      <td>entrepreneur</td>\n",
       "      <td>7058</td>\n",
       "      <td>276381</td>\n",
       "      <td>2563</td>\n",
       "      <td>47960</td>\n",
       "      <td>435</td>\n",
       "      <td>5422</td>\n",
       "      <td>72</td>\n",
       "      <td>0.103314</td>\n",
       "    </tr>\n",
       "    <tr>\n",
       "      <th>9</th>\n",
       "      <td>unemployed</td>\n",
       "      <td>5236</td>\n",
       "      <td>139446</td>\n",
       "      <td>2060</td>\n",
       "      <td>38562</td>\n",
       "      <td>343</td>\n",
       "      <td>4688</td>\n",
       "      <td>62</td>\n",
       "      <td>0.083821</td>\n",
       "    </tr>\n",
       "    <tr>\n",
       "      <th>10</th>\n",
       "      <td>housemaid</td>\n",
       "      <td>5302</td>\n",
       "      <td>233386</td>\n",
       "      <td>1713</td>\n",
       "      <td>32775</td>\n",
       "      <td>280</td>\n",
       "      <td>2957</td>\n",
       "      <td>40</td>\n",
       "      <td>0.040936</td>\n",
       "    </tr>\n",
       "    <tr>\n",
       "      <th>11</th>\n",
       "      <td>unknown</td>\n",
       "      <td>1828</td>\n",
       "      <td>57065</td>\n",
       "      <td>602</td>\n",
       "      <td>8243</td>\n",
       "      <td>97</td>\n",
       "      <td>1377</td>\n",
       "      <td>19</td>\n",
       "      <td>0.000000</td>\n",
       "    </tr>\n",
       "  </tbody>\n",
       "</table>\n",
       "</div>"
      ],
      "text/plain": [
       "              job  sum(age)  sum(balance)  sum(day)  sum(duration)  \\\n",
       "0      management     39284       1712154     15751         252460   \n",
       "1     blue-collar     37988       1026563     14646         263141   \n",
       "2      technician     30313       1022205     12429         193673   \n",
       "3          admin.     18968        586380      7803         112172   \n",
       "4        services     16084        460350      6470         109457   \n",
       "5         retired     14230        533414      3578          65701   \n",
       "6   self-employed      7586        254811      2961          48335   \n",
       "7         student      2253        129681      1377          20890   \n",
       "8    entrepreneur      7058        276381      2563          47960   \n",
       "9      unemployed      5236        139446      2060          38562   \n",
       "10      housemaid      5302        233386      1713          32775   \n",
       "11        unknown      1828         57065       602           8243   \n",
       "\n",
       "    sum(campaign)  sum(pdays)  sum(previous)  sum(previous)_norm  \n",
       "0            2881       39698            532            1.000000  \n",
       "1            2693       39345            467            0.873294  \n",
       "2            2098       30156            443            0.826511  \n",
       "3            1258       23897            308            0.563353  \n",
       "4            1177       15167            185            0.323587  \n",
       "5             567        8067            136            0.228070  \n",
       "6             600        5171            108            0.173489  \n",
       "7             201        3840             81            0.120858  \n",
       "8             435        5422             72            0.103314  \n",
       "9             343        4688             62            0.083821  \n",
       "10            280        2957             40            0.040936  \n",
       "11             97        1377             19            0.000000  "
      ]
     },
     "execution_count": 19,
     "metadata": {},
     "output_type": "execute_result"
    }
   ],
   "source": [
    "df_result"
   ]
  },
  {
   "cell_type": "code",
   "execution_count": 20,
   "id": "a3cff7f0",
   "metadata": {},
   "outputs": [
    {
     "data": {
      "text/plain": [
       "<Axes: xlabel='job'>"
      ]
     },
     "execution_count": 20,
     "metadata": {},
     "output_type": "execute_result"
    },
    {
     "data": {
      "image/png": "[encoded data removed]",
      "text/plain": [
       "<Figure size 640x480 with 1 Axes>"
      ]
     },
     "metadata": {},
     "output_type": "display_data"
    }
   ],
   "source": [
    "df_result.plot.bar(x='job', y='sum(previous)_norm')"
   ]
  },
  {
   "cell_type": "markdown",
   "id": "5fdd70b2",
   "metadata": {},
   "source": [
    "### Standardization"
   ]
  },
  {
   "cell_type": "markdown",
   "id": "14ccd0cd",
   "metadata": {},
   "source": [
    "#### Using z-score method:"
   ]
  },
  {
   "cell_type": "markdown",
   "id": "4ebeef8e",
   "metadata": {},
   "source": [
    "The z-score method (often called **Standardization**) transforms the info into a distribution with mean of 0 and the standard deviation of 1. each standardized value is computed by subtracting the mean of the corresponding feature whn dividing by the sandard deviaiton."
   ]
  },
  {
   "cell_type": "markdown",
   "id": "6058aa98",
   "metadata": {},
   "source": [
    "$$\n",
    " \\frac{x-mean}{stdev}\n",
    "$$"
   ]
  },
  {
   "cell_type": "code",
   "execution_count": 21,
   "id": "35a543e5",
   "metadata": {},
   "outputs": [],
   "source": [
    "df_result[\"sum(previous)_std\"] = (df_result[\"sum(previous)\"] - df_result[\"sum(previous)\"].mean()) / (df_result[\"sum(previous)\"].std())"
   ]
  },
  {
   "cell_type": "code",
   "execution_count": 22,
   "id": "1ce8b7c2",
   "metadata": {},
   "outputs": [
    {
     "data": {
      "text/html": [
       "<div>\n",
       "<style scoped>\n",
       "    .dataframe tbody tr th:only-of-type {\n",
       "        vertical-align: middle;\n",
       "    }\n",
       "\n",
       "    .dataframe tbody tr th {\n",
       "        vertical-align: top;\n",
       "    }\n",
       "\n",
       "    .dataframe thead th {\n",
       "        text-align: right;\n",
       "    }\n",
       "</style>\n",
       "<table border=\"1\" class=\"dataframe\">\n",
       "  <thead>\n",
       "    <tr style=\"text-align: right;\">\n",
       "      <th></th>\n",
       "      <th>job</th>\n",
       "      <th>sum(age)</th>\n",
       "      <th>sum(balance)</th>\n",
       "      <th>sum(day)</th>\n",
       "      <th>sum(duration)</th>\n",
       "      <th>sum(campaign)</th>\n",
       "      <th>sum(pdays)</th>\n",
       "      <th>sum(previous)</th>\n",
       "      <th>sum(previous)_norm</th>\n",
       "      <th>sum(previous)_std</th>\n",
       "    </tr>\n",
       "  </thead>\n",
       "  <tbody>\n",
       "    <tr>\n",
       "      <th>0</th>\n",
       "      <td>management</td>\n",
       "      <td>39284</td>\n",
       "      <td>1712154</td>\n",
       "      <td>15751</td>\n",
       "      <td>252460</td>\n",
       "      <td>2881</td>\n",
       "      <td>39698</td>\n",
       "      <td>532</td>\n",
       "      <td>1.000000</td>\n",
       "      <td>1.779601</td>\n",
       "    </tr>\n",
       "    <tr>\n",
       "      <th>1</th>\n",
       "      <td>blue-collar</td>\n",
       "      <td>37988</td>\n",
       "      <td>1026563</td>\n",
       "      <td>14646</td>\n",
       "      <td>263141</td>\n",
       "      <td>2693</td>\n",
       "      <td>39345</td>\n",
       "      <td>467</td>\n",
       "      <td>0.873294</td>\n",
       "      <td>1.426488</td>\n",
       "    </tr>\n",
       "    <tr>\n",
       "      <th>2</th>\n",
       "      <td>technician</td>\n",
       "      <td>30313</td>\n",
       "      <td>1022205</td>\n",
       "      <td>12429</td>\n",
       "      <td>193673</td>\n",
       "      <td>2098</td>\n",
       "      <td>30156</td>\n",
       "      <td>443</td>\n",
       "      <td>0.826511</td>\n",
       "      <td>1.296108</td>\n",
       "    </tr>\n",
       "    <tr>\n",
       "      <th>3</th>\n",
       "      <td>admin.</td>\n",
       "      <td>18968</td>\n",
       "      <td>586380</td>\n",
       "      <td>7803</td>\n",
       "      <td>112172</td>\n",
       "      <td>1258</td>\n",
       "      <td>23897</td>\n",
       "      <td>308</td>\n",
       "      <td>0.563353</td>\n",
       "      <td>0.562718</td>\n",
       "    </tr>\n",
       "    <tr>\n",
       "      <th>4</th>\n",
       "      <td>services</td>\n",
       "      <td>16084</td>\n",
       "      <td>460350</td>\n",
       "      <td>6470</td>\n",
       "      <td>109457</td>\n",
       "      <td>1177</td>\n",
       "      <td>15167</td>\n",
       "      <td>185</td>\n",
       "      <td>0.323587</td>\n",
       "      <td>-0.105481</td>\n",
       "    </tr>\n",
       "    <tr>\n",
       "      <th>5</th>\n",
       "      <td>retired</td>\n",
       "      <td>14230</td>\n",
       "      <td>533414</td>\n",
       "      <td>3578</td>\n",
       "      <td>65701</td>\n",
       "      <td>567</td>\n",
       "      <td>8067</td>\n",
       "      <td>136</td>\n",
       "      <td>0.228070</td>\n",
       "      <td>-0.371675</td>\n",
       "    </tr>\n",
       "    <tr>\n",
       "      <th>6</th>\n",
       "      <td>self-employed</td>\n",
       "      <td>7586</td>\n",
       "      <td>254811</td>\n",
       "      <td>2961</td>\n",
       "      <td>48335</td>\n",
       "      <td>600</td>\n",
       "      <td>5171</td>\n",
       "      <td>108</td>\n",
       "      <td>0.173489</td>\n",
       "      <td>-0.523785</td>\n",
       "    </tr>\n",
       "    <tr>\n",
       "      <th>7</th>\n",
       "      <td>student</td>\n",
       "      <td>2253</td>\n",
       "      <td>129681</td>\n",
       "      <td>1377</td>\n",
       "      <td>20890</td>\n",
       "      <td>201</td>\n",
       "      <td>3840</td>\n",
       "      <td>81</td>\n",
       "      <td>0.120858</td>\n",
       "      <td>-0.670463</td>\n",
       "    </tr>\n",
       "    <tr>\n",
       "      <th>8</th>\n",
       "      <td>entrepreneur</td>\n",
       "      <td>7058</td>\n",
       "      <td>276381</td>\n",
       "      <td>2563</td>\n",
       "      <td>47960</td>\n",
       "      <td>435</td>\n",
       "      <td>5422</td>\n",
       "      <td>72</td>\n",
       "      <td>0.103314</td>\n",
       "      <td>-0.719356</td>\n",
       "    </tr>\n",
       "    <tr>\n",
       "      <th>9</th>\n",
       "      <td>unemployed</td>\n",
       "      <td>5236</td>\n",
       "      <td>139446</td>\n",
       "      <td>2060</td>\n",
       "      <td>38562</td>\n",
       "      <td>343</td>\n",
       "      <td>4688</td>\n",
       "      <td>62</td>\n",
       "      <td>0.083821</td>\n",
       "      <td>-0.773681</td>\n",
       "    </tr>\n",
       "    <tr>\n",
       "      <th>10</th>\n",
       "      <td>housemaid</td>\n",
       "      <td>5302</td>\n",
       "      <td>233386</td>\n",
       "      <td>1713</td>\n",
       "      <td>32775</td>\n",
       "      <td>280</td>\n",
       "      <td>2957</td>\n",
       "      <td>40</td>\n",
       "      <td>0.040936</td>\n",
       "      <td>-0.893196</td>\n",
       "    </tr>\n",
       "    <tr>\n",
       "      <th>11</th>\n",
       "      <td>unknown</td>\n",
       "      <td>1828</td>\n",
       "      <td>57065</td>\n",
       "      <td>602</td>\n",
       "      <td>8243</td>\n",
       "      <td>97</td>\n",
       "      <td>1377</td>\n",
       "      <td>19</td>\n",
       "      <td>0.000000</td>\n",
       "      <td>-1.007279</td>\n",
       "    </tr>\n",
       "  </tbody>\n",
       "</table>\n",
       "</div>"
      ],
      "text/plain": [
       "              job  sum(age)  sum(balance)  sum(day)  sum(duration)  \\\n",
       "0      management     39284       1712154     15751         252460   \n",
       "1     blue-collar     37988       1026563     14646         263141   \n",
       "2      technician     30313       1022205     12429         193673   \n",
       "3          admin.     18968        586380      7803         112172   \n",
       "4        services     16084        460350      6470         109457   \n",
       "5         retired     14230        533414      3578          65701   \n",
       "6   self-employed      7586        254811      2961          48335   \n",
       "7         student      2253        129681      1377          20890   \n",
       "8    entrepreneur      7058        276381      2563          47960   \n",
       "9      unemployed      5236        139446      2060          38562   \n",
       "10      housemaid      5302        233386      1713          32775   \n",
       "11        unknown      1828         57065       602           8243   \n",
       "\n",
       "    sum(campaign)  sum(pdays)  sum(previous)  sum(previous)_norm  \\\n",
       "0            2881       39698            532            1.000000   \n",
       "1            2693       39345            467            0.873294   \n",
       "2            2098       30156            443            0.826511   \n",
       "3            1258       23897            308            0.563353   \n",
       "4            1177       15167            185            0.323587   \n",
       "5             567        8067            136            0.228070   \n",
       "6             600        5171            108            0.173489   \n",
       "7             201        3840             81            0.120858   \n",
       "8             435        5422             72            0.103314   \n",
       "9             343        4688             62            0.083821   \n",
       "10            280        2957             40            0.040936   \n",
       "11             97        1377             19            0.000000   \n",
       "\n",
       "    sum(previous)_std  \n",
       "0            1.779601  \n",
       "1            1.426488  \n",
       "2            1.296108  \n",
       "3            0.562718  \n",
       "4           -0.105481  \n",
       "5           -0.371675  \n",
       "6           -0.523785  \n",
       "7           -0.670463  \n",
       "8           -0.719356  \n",
       "9           -0.773681  \n",
       "10          -0.893196  \n",
       "11          -1.007279  "
      ]
     },
     "execution_count": 22,
     "metadata": {},
     "output_type": "execute_result"
    }
   ],
   "source": [
    "df_result"
   ]
  },
  {
   "cell_type": "code",
   "execution_count": 23,
   "id": "7eba7646",
   "metadata": {},
   "outputs": [
    {
     "data": {
      "text/plain": [
       "<Axes: xlabel='job'>"
      ]
     },
     "execution_count": 23,
     "metadata": {},
     "output_type": "execute_result"
    },
    {
     "data": {
      "image/png": "[encoded data removed]",
      "text/plain": [
       "<Figure size 640x480 with 1 Axes>"
      ]
     },
     "metadata": {},
     "output_type": "display_data"
    }
   ],
   "source": [
    "df_result.plot.bar(x='job', y='sum(previous)_std')"
   ]
  },
  {
   "cell_type": "code",
   "execution_count": 24,
   "id": "18f77c59",
   "metadata": {},
   "outputs": [
    {
     "data": {
      "text/plain": [
       "5.551115123125783e-17"
      ]
     },
     "execution_count": 24,
     "metadata": {},
     "output_type": "execute_result"
    }
   ],
   "source": [
    "df_result[\"sum(previous)_std\"].mean()"
   ]
  },
  {
   "cell_type": "code",
   "execution_count": 25,
   "id": "104baecc",
   "metadata": {},
   "outputs": [
    {
     "data": {
      "text/plain": [
       "1.0"
      ]
     },
     "execution_count": 25,
     "metadata": {},
     "output_type": "execute_result"
    }
   ],
   "source": [
    "df_result[\"sum(previous)_std\"].std()"
   ]
  },
  {
   "cell_type": "markdown",
   "id": "4aa9e4f1",
   "metadata": {},
   "source": [
    "### Task 4"
   ]
  },
  {
   "cell_type": "markdown",
   "id": "4c09ad14",
   "metadata": {},
   "source": [
    "#### Create a histogram of the variable/attribute: age"
   ]
  },
  {
   "cell_type": "code",
   "execution_count": 26,
   "id": "bf7b599d",
   "metadata": {},
   "outputs": [
    {
     "data": {
      "text/plain": [
       "array([[<Axes: title={'center': 'age'}>]], dtype=object)"
      ]
     },
     "execution_count": 26,
     "metadata": {},
     "output_type": "execute_result"
    },
    {
     "data": {
      "image/png": "[encoded data removed]",
      "text/plain": [
       "<Figure size 640x480 with 1 Axes>"
      ]
     },
     "metadata": {},
     "output_type": "display_data"
    }
   ],
   "source": [
    "df = bank_data.select('age') # Selecting the column 'age'\n",
    "df.toPandas().hist(column='age') # Converting the dataframe to Pandas and then draw a histogram"
   ]
  },
  {
   "cell_type": "markdown",
   "id": "77654f50",
   "metadata": {},
   "source": [
    "### Task 5"
   ]
  },
  {
   "cell_type": "markdown",
   "id": "115098d0",
   "metadata": {},
   "source": [
    "#### Create a histogram of the normalised variable/attribute: age"
   ]
  },
  {
   "cell_type": "code",
   "execution_count": 27,
   "id": "d7198904",
   "metadata": {},
   "outputs": [
    {
     "data": {
      "text/html": [
       "<div>\n",
       "<style scoped>\n",
       "    .dataframe tbody tr th:only-of-type {\n",
       "        vertical-align: middle;\n",
       "    }\n",
       "\n",
       "    .dataframe tbody tr th {\n",
       "        vertical-align: top;\n",
       "    }\n",
       "\n",
       "    .dataframe thead th {\n",
       "        text-align: right;\n",
       "    }\n",
       "</style>\n",
       "<table border=\"1\" class=\"dataframe\">\n",
       "  <thead>\n",
       "    <tr style=\"text-align: right;\">\n",
       "      <th></th>\n",
       "      <th>age</th>\n",
       "      <th>age_norm</th>\n",
       "    </tr>\n",
       "  </thead>\n",
       "  <tbody>\n",
       "    <tr>\n",
       "      <th>0</th>\n",
       "      <td>30</td>\n",
       "      <td>0.161765</td>\n",
       "    </tr>\n",
       "    <tr>\n",
       "      <th>1</th>\n",
       "      <td>33</td>\n",
       "      <td>0.205882</td>\n",
       "    </tr>\n",
       "    <tr>\n",
       "      <th>2</th>\n",
       "      <td>35</td>\n",
       "      <td>0.235294</td>\n",
       "    </tr>\n",
       "    <tr>\n",
       "      <th>3</th>\n",
       "      <td>30</td>\n",
       "      <td>0.161765</td>\n",
       "    </tr>\n",
       "    <tr>\n",
       "      <th>4</th>\n",
       "      <td>59</td>\n",
       "      <td>0.588235</td>\n",
       "    </tr>\n",
       "    <tr>\n",
       "      <th>...</th>\n",
       "      <td>...</td>\n",
       "      <td>...</td>\n",
       "    </tr>\n",
       "    <tr>\n",
       "      <th>4516</th>\n",
       "      <td>33</td>\n",
       "      <td>0.205882</td>\n",
       "    </tr>\n",
       "    <tr>\n",
       "      <th>4517</th>\n",
       "      <td>57</td>\n",
       "      <td>0.558824</td>\n",
       "    </tr>\n",
       "    <tr>\n",
       "      <th>4518</th>\n",
       "      <td>57</td>\n",
       "      <td>0.558824</td>\n",
       "    </tr>\n",
       "    <tr>\n",
       "      <th>4519</th>\n",
       "      <td>28</td>\n",
       "      <td>0.132353</td>\n",
       "    </tr>\n",
       "    <tr>\n",
       "      <th>4520</th>\n",
       "      <td>44</td>\n",
       "      <td>0.367647</td>\n",
       "    </tr>\n",
       "  </tbody>\n",
       "</table>\n",
       "<p>4521 rows × 2 columns</p>\n",
       "</div>"
      ],
      "text/plain": [
       "      age  age_norm\n",
       "0      30  0.161765\n",
       "1      33  0.205882\n",
       "2      35  0.235294\n",
       "3      30  0.161765\n",
       "4      59  0.588235\n",
       "...   ...       ...\n",
       "4516   33  0.205882\n",
       "4517   57  0.558824\n",
       "4518   57  0.558824\n",
       "4519   28  0.132353\n",
       "4520   44  0.367647\n",
       "\n",
       "[4521 rows x 2 columns]"
      ]
     },
     "execution_count": 27,
     "metadata": {},
     "output_type": "execute_result"
    }
   ],
   "source": [
    "df_result = df.toPandas()\n",
    "df_result[\"age_norm\"] = (df_result[\"age\"] - df_result[\"age\"].min()) / (df_result[\"age\"].max()-df_result[\"age\"].min())\n",
    "df_result"
   ]
  },
  {
   "cell_type": "code",
   "execution_count": 28,
   "id": "b9192ec5",
   "metadata": {},
   "outputs": [
    {
     "data": {
      "text/plain": [
       "array([[<Axes: title={'center': 'age_norm'}>]], dtype=object)"
      ]
     },
     "execution_count": 28,
     "metadata": {},
     "output_type": "execute_result"
    },
    {
     "data": {
      "image/png": "[encoded data removed]",
      "text/plain": [
       "<Figure size 640x480 with 1 Axes>"
      ]
     },
     "metadata": {},
     "output_type": "display_data"
    }
   ],
   "source": [
    "df_result.hist(column='age_norm')"
   ]
  },
  {
   "cell_type": "markdown",
   "id": "ca239318",
   "metadata": {},
   "source": [
    "### Task 6"
   ]
  },
  {
   "cell_type": "markdown",
   "id": "aca4b1ff",
   "metadata": {},
   "source": [
    "#### Bin (groupby) the variable/attribute age and create a bar chart"
   ]
  },
  {
   "cell_type": "code",
   "execution_count": 29,
   "id": "02819830",
   "metadata": {},
   "outputs": [
    {
     "data": {
      "text/plain": [
       "<Axes: xlabel='job'>"
      ]
     },
     "execution_count": 29,
     "metadata": {},
     "output_type": "execute_result"
    },
    {
     "data": {
      "image/png": "[encoded data removed]",
      "text/plain": [
       "<Figure size 640x480 with 1 Axes>"
      ]
     },
     "metadata": {},
     "output_type": "display_data"
    }
   ],
   "source": [
    "df=bank_data.groupBy('job').agg(func.mean('age')).orderBy('avg(age)', ascending=False)\n",
    "df.toPandas().plot.bar(x='job', y='avg(age)')"
   ]
  },
  {
   "cell_type": "markdown",
   "id": "00bf96a2",
   "metadata": {},
   "source": [
    "### Task 7"
   ]
  },
  {
   "cell_type": "markdown",
   "id": "591878ad",
   "metadata": {},
   "source": [
    "#### Create a scatter plot for the following variable/attribute: age and balance"
   ]
  },
  {
   "cell_type": "code",
   "execution_count": 30,
   "id": "6716d3e1",
   "metadata": {},
   "outputs": [
    {
     "data": {
      "text/plain": [
       "<Axes: xlabel='age', ylabel='balance'>"
      ]
     },
     "execution_count": 30,
     "metadata": {},
     "output_type": "execute_result"
    },
    {
     "data": {
      "image/png": "[encoded data removed]",
      "text/plain": [
       "<Figure size 640x480 with 1 Axes>"
      ]
     },
     "metadata": {},
     "output_type": "display_data"
    }
   ],
   "source": [
    "df = bank_data.select('age', 'balance')\n",
    "df.toPandas().plot.scatter(x='age', y='balance')"
   ]
  },
  {
   "cell_type": "markdown",
   "id": "2c7ce8d0",
   "metadata": {},
   "source": [
    "## Cleaning Data"
   ]
  },
  {
   "cell_type": "markdown",
   "id": "4299702b",
   "metadata": {},
   "source": [
    "Consider a scenario in which the owner of the data set decides that any data under the ‘Job’ column that contains ‘unknown’ or ‘unemployed’ data should be considered inaccurate. Thus, those data should be removed from the dataset before data exploration.\n",
    "\n",
    "As part of this data removal operation (i.e., the data cleaning operation), you are requested to get rid of all the data rows in which the ‘Job’ column contains ‘unknown’ or ‘unemployed’ instead of data. You can remove these either using PySpark or Excel. Once these data have been removed, save the remaining data in a csv file named bank.csv as before."
   ]
  },
  {
   "cell_type": "markdown",
   "id": "c72eed3a",
   "metadata": {},
   "source": [
    "#### Filtering"
   ]
  },
  {
   "cell_type": "code",
   "execution_count": 31,
   "id": "76b72957",
   "metadata": {},
   "outputs": [
    {
     "name": "stdout",
     "output_type": "stream",
     "text": [
      "+---+----------+--------+---------+-------+-------+-------+----+---------+---+-----+--------+--------+-----+--------+--------+---+\n",
      "|age|       job| marital|education|default|balance|housing|loan|  contact|day|month|duration|campaign|pdays|previous|poutcome|  y|\n",
      "+---+----------+--------+---------+-------+-------+-------+----+---------+---+-----+--------+--------+-----+--------+--------+---+\n",
      "| 30|unemployed| married|  primary|     no|   1787|     no|  no| cellular| 19|  oct|      79|       1|   -1|       0| unknown| no|\n",
      "| 40|unemployed| married|secondary|     no|    219|    yes|  no| cellular| 17|  nov|     204|       2|  196|       1| failure| no|\n",
      "| 31|unemployed|  single|  primary|     no|    406|     no|  no| cellular|  4|  feb|     736|       1|   -1|       0| unknown|yes|\n",
      "| 56|unemployed| married|  primary|     no|   3391|     no|  no| cellular| 21|  apr|     243|       1|   -1|       0| unknown|yes|\n",
      "| 24|unemployed|  single|secondary|     no|    119|     no|  no|  unknown| 15|  sep|      51|       1|   -1|       0| unknown| no|\n",
      "| 45|unemployed|divorced|  primary|    yes|   -249|    yes| yes|  unknown|  1|  jul|      92|       1|   -1|       0| unknown| no|\n",
      "| 51|unemployed| married| tertiary|     no|   1634|    yes|  no| cellular| 22|  jul|     168|       4|   -1|       0| unknown| no|\n",
      "| 32|unemployed|  single|secondary|     no|      0|     no|  no| cellular| 27|  may|     123|       2|   -1|       0| unknown| no|\n",
      "| 28|unemployed|  single|secondary|     no|     16|     no|  no| cellular| 12|  aug|     119|       4|   -1|       0| unknown| no|\n",
      "| 38|unemployed| married|  primary|     no|   1147|    yes| yes|  unknown|  8|  may|     249|       5|   -1|       0| unknown| no|\n",
      "| 26|unemployed|  single|secondary|     no|   1064|     no|  no|  unknown| 31|  may|     113|       1|   -1|       0| unknown| no|\n",
      "| 51|unemployed| married|secondary|     no|   1760|     no| yes| cellular| 19|  nov|     162|       1|   -1|       0| unknown| no|\n",
      "| 35|unemployed| married|secondary|     no|    978|     no|  no| cellular| 29|  dec|    1370|       3|  209|       3| success|yes|\n",
      "| 55|unemployed| married| tertiary|     no|    383|     no|  no|  unknown|  6|  may|     343|       3|   -1|       0| unknown| no|\n",
      "| 31|unemployed| married|secondary|     no|    296|    yes|  no|  unknown| 20|  may|     378|       3|   -1|       0| unknown| no|\n",
      "| 45|unemployed|divorced|  primary|     no|    757|     no|  no| cellular| 20|  apr|     103|       1|  325|       4| failure| no|\n",
      "| 49|unemployed|divorced|secondary|     no|     66|     no|  no| cellular|  9|  jul|     218|       3|   -1|       0| unknown| no|\n",
      "| 59|unemployed| married|  primary|     no|      0|     no|  no| cellular| 30|  jan|    3025|       2|   -1|       0| unknown| no|\n",
      "| 37|unemployed|  single| tertiary|    yes|      0|    yes|  no| cellular| 10|  jul|     108|       1|   -1|       0| unknown| no|\n",
      "| 51|unemployed|  single| tertiary|     no|   1594|     no|  no|telephone|  4|  feb|     197|       1|   -1|       0| unknown| no|\n",
      "+---+----------+--------+---------+-------+-------+-------+----+---------+---+-----+--------+--------+-----+--------+--------+---+\n",
      "only showing top 20 rows\n",
      "\n"
     ]
    }
   ],
   "source": [
    "# Using 'where' to filter the data\n",
    "bank_data.where(bank_data.job=='unemployed').show() "
   ]
  },
  {
   "cell_type": "code",
   "execution_count": 32,
   "id": "f77b8238",
   "metadata": {},
   "outputs": [
    {
     "name": "stdout",
     "output_type": "stream",
     "text": [
      "+---+----------+--------+---------+-------+-------+-------+----+--------+---+-----+--------+--------+-----+--------+--------+---+\n",
      "|age|       job| marital|education|default|balance|housing|loan| contact|day|month|duration|campaign|pdays|previous|poutcome|  y|\n",
      "+---+----------+--------+---------+-------+-------+-------+----+--------+---+-----+--------+--------+-----+--------+--------+---+\n",
      "| 30|unemployed| married|  primary|     no|   1787|     no|  no|cellular| 19|  oct|      79|       1|   -1|       0| unknown| no|\n",
      "| 40|unemployed| married|secondary|     no|    219|    yes|  no|cellular| 17|  nov|     204|       2|  196|       1| failure| no|\n",
      "| 41|   unknown|  single| tertiary|     no|   1567|     no|  no|cellular|  1|  jul|     291|       2|   -1|       0| unknown| no|\n",
      "| 31|unemployed|  single|  primary|     no|    406|     no|  no|cellular|  4|  feb|     736|       1|   -1|       0| unknown|yes|\n",
      "| 56|unemployed| married|  primary|     no|   3391|     no|  no|cellular| 21|  apr|     243|       1|   -1|       0| unknown|yes|\n",
      "| 24|unemployed|  single|secondary|     no|    119|     no|  no| unknown| 15|  sep|      51|       1|   -1|       0| unknown| no|\n",
      "| 45|unemployed|divorced|  primary|    yes|   -249|    yes| yes| unknown|  1|  jul|      92|       1|   -1|       0| unknown| no|\n",
      "| 37|   unknown| married|  unknown|     no|   1699|     no|  no| unknown|  9|  jun|      63|       1|   -1|       0| unknown| no|\n",
      "| 52|   unknown| married|secondary|     no|    142|     no|  no|cellular| 25|  aug|     112|       6|   -1|       0| unknown| no|\n",
      "| 51|unemployed| married| tertiary|     no|   1634|    yes|  no|cellular| 22|  jul|     168|       4|   -1|       0| unknown| no|\n",
      "| 32|unemployed|  single|secondary|     no|      0|     no|  no|cellular| 27|  may|     123|       2|   -1|       0| unknown| no|\n",
      "| 28|unemployed|  single|secondary|     no|     16|     no|  no|cellular| 12|  aug|     119|       4|   -1|       0| unknown| no|\n",
      "| 38|unemployed| married|  primary|     no|   1147|    yes| yes| unknown|  8|  may|     249|       5|   -1|       0| unknown| no|\n",
      "| 26|unemployed|  single|secondary|     no|   1064|     no|  no| unknown| 31|  may|     113|       1|   -1|       0| unknown| no|\n",
      "| 51|unemployed| married|secondary|     no|   1760|     no| yes|cellular| 19|  nov|     162|       1|   -1|       0| unknown| no|\n",
      "| 35|unemployed| married|secondary|     no|    978|     no|  no|cellular| 29|  dec|    1370|       3|  209|       3| success|yes|\n",
      "| 55|unemployed| married| tertiary|     no|    383|     no|  no| unknown|  6|  may|     343|       3|   -1|       0| unknown| no|\n",
      "| 31|unemployed| married|secondary|     no|    296|    yes|  no| unknown| 20|  may|     378|       3|   -1|       0| unknown| no|\n",
      "| 45|unemployed|divorced|  primary|     no|    757|     no|  no|cellular| 20|  apr|     103|       1|  325|       4| failure| no|\n",
      "| 49|unemployed|divorced|secondary|     no|     66|     no|  no|cellular|  9|  jul|     218|       3|   -1|       0| unknown| no|\n",
      "+---+----------+--------+---------+-------+-------+-------+----+--------+---+-----+--------+--------+-----+--------+--------+---+\n",
      "only showing top 20 rows\n",
      "\n"
     ]
    }
   ],
   "source": [
    "# Using 'and' (&) 'or' (|) to apply multiple conditions \n",
    "bank_data.where((bank_data.job=='unknown') | (bank_data.job=='unemployed')).show() "
   ]
  },
  {
   "cell_type": "markdown",
   "id": "2579608f",
   "metadata": {},
   "source": [
    "#### No of rows"
   ]
  },
  {
   "cell_type": "code",
   "execution_count": 33,
   "id": "05e3f136",
   "metadata": {},
   "outputs": [
    {
     "data": {
      "text/plain": [
       "4521"
      ]
     },
     "execution_count": 33,
     "metadata": {},
     "output_type": "execute_result"
    }
   ],
   "source": [
    "bank_data.count()"
   ]
  },
  {
   "cell_type": "code",
   "execution_count": 34,
   "id": "140052a5",
   "metadata": {},
   "outputs": [
    {
     "data": {
      "text/plain": [
       "166"
      ]
     },
     "execution_count": 34,
     "metadata": {},
     "output_type": "execute_result"
    }
   ],
   "source": [
    "bank_data.where((bank_data.job=='unknown') | (bank_data.job=='unemployed')).count()"
   ]
  },
  {
   "cell_type": "markdown",
   "id": "573d7589",
   "metadata": {},
   "source": [
    "#### Removing the unwanted rows"
   ]
  },
  {
   "cell_type": "code",
   "execution_count": 35,
   "id": "a8dda754",
   "metadata": {},
   "outputs": [],
   "source": [
    "df_cleaned = bank_data.where((bank_data.job!='unknown') & (bank_data.job!='unemployed'))"
   ]
  },
  {
   "cell_type": "code",
   "execution_count": 36,
   "id": "865646f0",
   "metadata": {},
   "outputs": [
    {
     "data": {
      "text/plain": [
       "4355"
      ]
     },
     "execution_count": 36,
     "metadata": {},
     "output_type": "execute_result"
    }
   ],
   "source": [
    "df_cleaned.count()"
   ]
  },
  {
   "cell_type": "markdown",
   "id": "8d5ac385",
   "metadata": {},
   "source": [
    "### Finding Duplicated Rows"
   ]
  },
  {
   "cell_type": "code",
   "execution_count": 37,
   "id": "fc23bfb3",
   "metadata": {},
   "outputs": [
    {
     "name": "stdout",
     "output_type": "stream",
     "text": [
      "Empty DataFrame\n",
      "Columns: [age, job, marital, education, default, balance, housing, loan, contact, day, month, duration, campaign, pdays, previous, poutcome, y]\n",
      "Index: []\n"
     ]
    }
   ],
   "source": [
    "df = bank_data.toPandas()\n",
    "duplicated_rows = df[df.duplicated()]\n",
    "print(duplicated_rows)\n"
   ]
  },
  {
   "cell_type": "markdown",
   "id": "2cde0dde",
   "metadata": {},
   "source": [
    "#### Writing the cleaned dataframe to a csv file"
   ]
  },
  {
   "cell_type": "code",
   "execution_count": 38,
   "id": "ce08befa",
   "metadata": {},
   "outputs": [],
   "source": [
    "df_cleaned.write.csv(\"bank_data_cleaned.csv\")"
   ]
  },
  {
   "cell_type": "code",
   "execution_count": 40,
   "id": "b7a241e6",
   "metadata": {},
   "outputs": [],
   "source": [
    "df_cleaned.write.csv(\"bank_data_cleaned.csv\", header=True)"
   ]
  },
  {
   "cell_type": "code",
   "execution_count": null,
   "id": "1a6257c4",
   "metadata": {},
   "outputs": [],
   "source": []
  },
  {
   "cell_type": "code",
   "execution_count": null,
   "id": "803449f9",
   "metadata": {},
   "outputs": [],
   "source": []
  },
  {
   "cell_type": "code",
   "execution_count": null,
   "id": "ad17b689",
   "metadata": {},
   "outputs": [],
   "source": []
  },
  {
   "cell_type": "code",
   "execution_count": null,
   "id": "54ab696f",
   "metadata": {},
   "outputs": [],
   "source": []
  },
  {
   "cell_type": "code",
   "execution_count": null,
   "id": "b26d9fe2",
   "metadata": {},
   "outputs": [],
   "source": []
  },
  {
   "cell_type": "code",
   "execution_count": null,
   "id": "7ee0b595",
   "metadata": {},
   "outputs": [],
   "source": []
  }
 ],
 "metadata": {
  "kernelspec": {
   "display_name": "Python 3 (ipykernel)",
   "language": "python",
   "name": "python3"
  },
  "language_info": {
   "codemirror_mode": {
    "name": "ipython",
    "version": 3
   },
   "file_extension": ".py",
   "mimetype": "text/x-python",
   "name": "python",
   "nbconvert_exporter": "python",
   "pygments_lexer": "ipython3",
   "version": "3.11.4"
  }
 },
 "nbformat": 4,
 "nbformat_minor": 5
}
